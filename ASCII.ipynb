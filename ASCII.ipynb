{
 "cells": [
  {
   "cell_type": "markdown",
   "id": "69b0ee75-9431-482e-8e95-0528d437a63c",
   "metadata": {},
   "source": [
    "W tym projekcie będę uczył się pisać w ASCII, aby naturalnie odczytywać binarne i heksydecymalne kodowanie liter."
   ]
  },
  {
   "cell_type": "markdown",
   "id": "5dd93d32-2cc7-4a1d-894f-a0c0c2016a69",
   "metadata": {},
   "source": [
    "Dlaczego?"
   ]
  }
 ],
 "metadata": {
  "kernelspec": {
   "display_name": "Python 3 (ipykernel)",
   "language": "python",
   "name": "python3"
  },
  "language_info": {
   "codemirror_mode": {
    "name": "ipython",
    "version": 3
   },
   "file_extension": ".py",
   "mimetype": "text/x-python",
   "name": "python",
   "nbconvert_exporter": "python",
   "pygments_lexer": "ipython3",
   "version": "3.12.7"
  }
 },
 "nbformat": 4,
 "nbformat_minor": 5
}
