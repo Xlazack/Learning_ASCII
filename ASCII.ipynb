{
 "cells": [
  {
   "cell_type": "markdown",
   "id": "69b0ee75-9431-482e-8e95-0528d437a63c",
   "metadata": {
    "panel-layout": {
     "height": 68.30000305175781,
     "visible": true,
     "width": 100
    }
   },
   "source": [
    "W tym projekcie będę uczył się pisać w ASCII, aby naturalnie odczytywać binarne i heksydecymalne kodowanie liter."
   ]
  },
  {
   "cell_type": "markdown",
   "id": "5dd93d32-2cc7-4a1d-894f-a0c0c2016a69",
   "metadata": {
    "panel-layout": {
     "height": 51.15000915527344,
     "visible": true,
     "width": 100
    }
   },
   "source": [
    "Dlaczego?"
   ]
  },
  {
   "cell_type": "markdown",
   "id": "b09f56c7-ebe9-47d7-9d79-8f23467cfd32",
   "metadata": {
    "panel-layout": {
     "height": 51.15000915527344,
     "visible": true,
     "width": 100
    }
   },
   "source": [
    "Bo to fajna umiejętność"
   ]
  },
  {
   "cell_type": "markdown",
   "id": "06f32980-6cbd-4939-9ec4-5c5774055fff",
   "metadata": {},
   "source": [
    "Opis końcowego wyglądu projektu:\n",
    "Aplikacja pozwalająca na naukę pojedynczych znaków, naukę kodowania całych zdań (po angielsku, polski być może później) w 0b, 0x, 0d.\n",
    "Dodatkowe wymagane: funkcja kodująca znaki do 0b, 0x, 0d.\n",
    "Całkiem dodatkowe: zaprogramować jak mogły by brzmieć jak Lingua-Technis."
   ]
  },
  {
   "cell_type": "markdown",
   "id": "bd370ee8-8518-417c-984a-b468073df1d5",
   "metadata": {},
   "source": [
    "Etap I\n",
    "Przygotować listę liter."
   ]
  },
  {
   "cell_type": "code",
   "execution_count": 9,
   "id": "559fac85-fcac-4a73-812d-a6b96df092ae",
   "metadata": {},
   "outputs": [],
   "source": [
    "letters = [\"A\", \"B\", \"C\", \"D\", \"E\", \"F\", \"G\", \"H\", \"I\", \"J\", \"K\", \"L\", \"M\", \"N\", \"O\", \"P\", \"Q\", \"R\", \"S\", \"T\", \"U\", \"V\", \"W\", \"X\", \"Y\", \"Z\", \"a\", \"b\", \"c\", \"d\", \"e\", \"f\", \"g\", \"h\", \"i\", \"j\", \"k\", \"l\", \"m\", \"n\", \"o\", \"p\", \"q\", \"r\", \"s\", \"t\", \"u\", \"v\", \"w\", \"x\", \"y\", \"z\"]"
   ]
  },
  {
   "cell_type": "markdown",
   "id": "84edddb9-3370-44c1-b8e4-7eea004b838f",
   "metadata": {},
   "source": [
    "Etap II\n",
    "Przygotować słownik ASCII do 0b, 0x, 0d. Edit: num=ord(char), char=chr(num)"
   ]
  },
  {
   "cell_type": "code",
   "execution_count": 12,
   "id": "ab8f8647-7a21-4c34-a302-e45c68b01157",
   "metadata": {},
   "outputs": [],
   "source": [
    "#Obsolete\n",
    "ASCII_to_0d = {\n",
    "    \"A\": 65,\n",
    "    \"B\": 66,\n",
    "    \"C\": 67,\n",
    "    \"D\": 68,\n",
    "    \"E\": 69,\n",
    "    \"F\": 70,\n",
    "    \"G\": 71,\n",
    "    \"H\": 72,\n",
    "    \"I\": 73,\n",
    "    \"J\": 74,\n",
    "    \"K\": 75,\n",
    "    \"L\": 76,\n",
    "    \"M\": 77,\n",
    "    \"N\": 78,\n",
    "    \"O\": 79,\n",
    "    \"P\": 80,\n",
    "    \"Q\": 81,\n",
    "    \"R\": 82,\n",
    "    \"S\": 83,\n",
    "    \"T\": 84,\n",
    "    \"U\": 85,\n",
    "    \"V\": 86,\n",
    "    \"W\": 87,\n",
    "    \"X\": 88,\n",
    "    \"Y\": 89,\n",
    "    \"Z\": 90,\n",
    "    \"a\": 97,\n",
    "    \"b\": 98,\n",
    "    \"c\": 99,\n",
    "    \"d\": 100,\n",
    "    \"e\": 101,\n",
    "    \"f\": 102,\n",
    "    \"g\": 103,\n",
    "    \"h\": 104,\n",
    "    \"i\": 105,\n",
    "    \"j\": 106,\n",
    "    \"k\": 107,\n",
    "    \"l\": 108,\n",
    "    \"m\": 109,\n",
    "    \"n\": 110,\n",
    "    \"o\": 111,\n",
    "    \"p\": 112,\n",
    "    \"q\": 113,\n",
    "    \"r\": 114,\n",
    "    \"s\": 115,\n",
    "    \"t\": 116,\n",
    "    \"u\": 117,\n",
    "    \"v\": 118,\n",
    "    \"w\": 119,\n",
    "    \"x\": 120,\n",
    "    \"y\": 121,\n",
    "    \"z\": 122\n",
    "}"
   ]
  },
  {
   "cell_type": "markdown",
   "id": "4894e600-3bd4-4e0e-9cff-2731c31e83f2",
   "metadata": {},
   "source": [
    "Etap III\n",
    "Funkcja, która po wywołaniu przedstawia literę odpowiadającą zmiennej 0d, z 0d obok niej, którą należy zakodować do 0b lub 0x"
   ]
  },
  {
   "cell_type": "code",
   "execution_count": 41,
   "id": "cd3fc0c3-7453-44ed-8121-d9a02e11c8b0",
   "metadata": {},
   "outputs": [
    {
     "name": "stdout",
     "output_type": "stream",
     "text": [
      "o  ||  111\n"
     ]
    },
    {
     "name": "stdin",
     "output_type": "stream",
     "text": [
      "Translate to 0b stop\n"
     ]
    }
   ],
   "source": [
    "def flashcard_0b(dec):\n",
    "    print(chr(dec) + \"  ||  \" + str(dec))\n",
    "    answer = input(\"Translate to 0b\")\n",
    "    correct_answer = bin(dec)[2:].zfill(8)\n",
    "    if(answer == \"\" or \"stop\"):\n",
    "        return\n",
    "    elif(answer == correct_answer):\n",
    "        print(\"True\")\n",
    "    else:\n",
    "        print(\"False, it's \" + correct_answer)\n",
    "\n",
    "flashcard_0b(111)"
   ]
  },
  {
   "cell_type": "markdown",
   "id": "9fc93fb9-0868-4867-bf34-f60ce0ba54ed",
   "metadata": {},
   "source": [
    "Etap IV Nadrzędna funkcja losująca wartości do flashcard_0b"
   ]
  },
  {
   "cell_type": "code",
   "execution_count": null,
   "id": "ea6c2c16-0e17-4725-abf8-fb39a97c45f1",
   "metadata": {},
   "outputs": [],
   "source": []
  }
 ],
 "metadata": {
  "kernelspec": {
   "display_name": "Python 3 (ipykernel)",
   "language": "python",
   "name": "python3"
  },
  "language_info": {
   "codemirror_mode": {
    "name": "ipython",
    "version": 3
   },
   "file_extension": ".py",
   "mimetype": "text/x-python",
   "name": "python",
   "nbconvert_exporter": "python",
   "pygments_lexer": "ipython3",
   "version": "3.12.7"
  },
  "panel-cell-order": [
   "69b0ee75-9431-482e-8e95-0528d437a63c",
   "5dd93d32-2cc7-4a1d-894f-a0c0c2016a69",
   "b09f56c7-ebe9-47d7-9d79-8f23467cfd32"
  ]
 },
 "nbformat": 4,
 "nbformat_minor": 5
}
