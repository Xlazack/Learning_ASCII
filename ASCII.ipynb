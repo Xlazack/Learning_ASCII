{
 "cells": [
  {
   "cell_type": "markdown",
   "id": "69b0ee75-9431-482e-8e95-0528d437a63c",
   "metadata": {
    "panel-layout": {
     "height": 68.30000305175781,
     "visible": true,
     "width": 100
    }
   },
   "source": [
    "W tym projekcie będę uczył się pisać w ASCII, aby naturalnie odczytywać binarne i heksydecymalne kodowanie liter."
   ]
  },
  {
   "cell_type": "markdown",
   "id": "5dd93d32-2cc7-4a1d-894f-a0c0c2016a69",
   "metadata": {
    "panel-layout": {
     "height": 51.15000915527344,
     "visible": true,
     "width": 100
    }
   },
   "source": [
    "Dlaczego?"
   ]
  },
  {
   "cell_type": "markdown",
   "id": "b09f56c7-ebe9-47d7-9d79-8f23467cfd32",
   "metadata": {
    "panel-layout": {
     "height": 51.15000915527344,
     "visible": true,
     "width": 100
    }
   },
   "source": [
    "Bo to fajna umiejętność"
   ]
  },
  {
   "cell_type": "markdown",
   "id": "06f32980-6cbd-4939-9ec4-5c5774055fff",
   "metadata": {},
   "source": [
    "Opis końcowego wyglądu projektu:\n",
    "Aplikacja pozwalająca na naukę pojedynczych znaków, naukę kodowania całych zdań (po angielsku, polski być może później) w 0b, 0x, 0d.\n",
    "Dodatkowe wymagane: funkcja kodująca znaki do 0b, 0x, 0d.\n",
    "Całkiem dodatkowe: zaprogramować jak mogły by brzmieć jak Lingua-Technis."
   ]
  },
  {
   "cell_type": "code",
   "execution_count": 5,
   "id": "5d57e6d8-e297-4c15-b928-202142fd2b0f",
   "metadata": {},
   "outputs": [],
   "source": [
    "import random"
   ]
  },
  {
   "cell_type": "markdown",
   "id": "bd370ee8-8518-417c-984a-b468073df1d5",
   "metadata": {},
   "source": [
    "Etap I\n",
    "Przygotować listę liter."
   ]
  },
  {
   "cell_type": "code",
   "execution_count": 7,
   "id": "559fac85-fcac-4a73-812d-a6b96df092ae",
   "metadata": {},
   "outputs": [],
   "source": [
    "letters = ['A', 'B', 'C', 'D', 'E', 'F', 'G', 'H', 'I', 'J', 'K', 'L', 'M', 'N', '0', 'P', 'Q', 'R', 'S', 'T', 'U', 'V', 'W', 'X', 'Y', 'Z', 'a', 'b', 'c', 'd', 'e', 'f', 'g', 'h', 'i', 'j', 'k', 'l', 'm', 'n', 'o', 'p', 'q', 'r', 's', 't', 'u', 'v', 'w', 'x', 'y', 'z']"
   ]
  },
  {
   "cell_type": "markdown",
   "id": "84edddb9-3370-44c1-b8e4-7eea004b838f",
   "metadata": {},
   "source": [
    "Etap II\n",
    "Przygotować słownik ASCII do 0b, 0x, 0d. Edit: num=ord(char), char=chr(num)"
   ]
  },
  {
   "cell_type": "code",
   "execution_count": 9,
   "id": "ab8f8647-7a21-4c34-a302-e45c68b01157",
   "metadata": {},
   "outputs": [],
   "source": [
    "#Obsolete\n",
    "ASCII_to_0d = {\n",
    "    \"A\": 65,\n",
    "    \"B\": 66,\n",
    "    \"C\": 67,\n",
    "    \"D\": 68,\n",
    "    \"E\": 69,\n",
    "    \"F\": 70,\n",
    "    \"G\": 71,\n",
    "    \"H\": 72,\n",
    "    \"I\": 73,\n",
    "    \"J\": 74,\n",
    "    \"K\": 75,\n",
    "    \"L\": 76,\n",
    "    \"M\": 77,\n",
    "    \"N\": 78,\n",
    "    \"O\": 79,\n",
    "    \"P\": 80,\n",
    "    \"Q\": 81,\n",
    "    \"R\": 82,\n",
    "    \"S\": 83,\n",
    "    \"T\": 84,\n",
    "    \"U\": 85,\n",
    "    \"V\": 86,\n",
    "    \"W\": 87,\n",
    "    \"X\": 88,\n",
    "    \"Y\": 89,\n",
    "    \"Z\": 90,\n",
    "    \"a\": 97,\n",
    "    \"b\": 98,\n",
    "    \"c\": 99,\n",
    "    \"d\": 100,\n",
    "    \"e\": 101,\n",
    "    \"f\": 102,\n",
    "    \"g\": 103,\n",
    "    \"h\": 104,\n",
    "    \"i\": 105,\n",
    "    \"j\": 106,\n",
    "    \"k\": 107,\n",
    "    \"l\": 108,\n",
    "    \"m\": 109,\n",
    "    \"n\": 110,\n",
    "    \"o\": 111,\n",
    "    \"p\": 112,\n",
    "    \"q\": 113,\n",
    "    \"r\": 114,\n",
    "    \"s\": 115,\n",
    "    \"t\": 116,\n",
    "    \"u\": 117,\n",
    "    \"v\": 118,\n",
    "    \"w\": 119,\n",
    "    \"x\": 120,\n",
    "    \"y\": 121,\n",
    "    \"z\": 122\n",
    "}"
   ]
  },
  {
   "cell_type": "markdown",
   "id": "4894e600-3bd4-4e0e-9cff-2731c31e83f2",
   "metadata": {},
   "source": [
    "Etap III\n",
    "Funkcja, która po wywołaniu przedstawia literę odpowiadającą zmiennej 0d, z 0d obok niej, którą należy zakodować do 0b lub 0x"
   ]
  },
  {
   "cell_type": "code",
   "execution_count": 47,
   "id": "cd3fc0c3-7453-44ed-8121-d9a02e11c8b0",
   "metadata": {},
   "outputs": [],
   "source": [
    "def flashcard_0b(let):\n",
    "    print(let)\n",
    "    answer = input(\"Translate to 0b\")\n",
    "    correct_answer = bin(ord(let))[2:].zfill(8)\n",
    "    if(answer == correct_answer):\n",
    "        print(\"True\")\n",
    "    else:\n",
    "        print(\"False, it's \" + correct_answer)"
   ]
  },
  {
   "cell_type": "markdown",
   "id": "9fc93fb9-0868-4867-bf34-f60ce0ba54ed",
   "metadata": {},
   "source": [
    "Etap IV Nadrzędna funkcja losująca wartości do flashcard_0b"
   ]
  },
  {
   "cell_type": "code",
   "execution_count": 50,
   "id": "ea6c2c16-0e17-4725-abf8-fb39a97c45f1",
   "metadata": {},
   "outputs": [],
   "source": [
    "import random\n",
    "def flashcards_deck_0b():\n",
    "    while(True):\n",
    "        letter = random.choice(letters)\n",
    "        flashcard_0b(letter)\n",
    "        cont = input(\"Continue? [y/n]\").strip()\n",
    "        if cont.lower() in ['n', 'no']:\n",
    "            break"
   ]
  },
  {
   "cell_type": "markdown",
   "id": "140b5243-1c5e-4a54-a87e-d096f65c6d99",
   "metadata": {},
   "source": [
    "Etap V Przygotować pokrewne funkcje dla 0d i 0x"
   ]
  },
  {
   "cell_type": "code",
   "execution_count": 62,
   "id": "2b976e2d-b326-4d7e-8af5-9a5a91a3b515",
   "metadata": {},
   "outputs": [],
   "source": [
    "def flashcard_0d(let):\n",
    "    print(let)\n",
    "    answer = input(\"Translate to 0d\")\n",
    "    correct_answer = str(ord(let))\n",
    "    if(answer == correct_answer):\n",
    "        print(\"True\")\n",
    "    else:\n",
    "        print(\"False, it's \" + correct_answer)\n",
    "\n",
    "def flashcard_0x(let):\n",
    "    print(let)\n",
    "    answer = input(\"Translate to 0x\")\n",
    "    correct_answer = str(hex(ord(let))[2:])\n",
    "    if(answer == correct_answer):\n",
    "        print(\"True\")\n",
    "    else:\n",
    "        print(\"False, it's \" + correct_answer)\n",
    "\n",
    "def flashcards_deck_0d():\n",
    "    while(True):\n",
    "        letter = random.choice(letters)\n",
    "        flashcard_0d(letter)\n",
    "        cont = input(\"Continue? [y/n]\").strip()\n",
    "        if cont.lower() in ['n', 'no']:\n",
    "            break\n",
    "\n",
    "def flashcards_deck_0x():\n",
    "    while(True):\n",
    "        letter = random.choice(letters)\n",
    "        flashcard_0x(letter)\n",
    "        cont = input(\"Continue? [y/n]\").strip()\n",
    "        if cont.lower() in ['n', 'no']:\n",
    "            break"
   ]
  },
  {
   "cell_type": "code",
   "execution_count": 64,
   "id": "7029afe5-2040-4480-94d6-f2038a697512",
   "metadata": {},
   "outputs": [],
   "source": [
    "#Test area\n",
    "#flashcards_deck_0x()"
   ]
  },
  {
   "cell_type": "markdown",
   "id": "18020fdc-f19f-4539-8b26-3109474e2042",
   "metadata": {},
   "source": [
    "Etap VI Przygotowanie funkcji nadrzędnej aka menu:"
   ]
  },
  {
   "cell_type": "code",
   "execution_count": 67,
   "id": "36c1a8a3-2fcb-4e3a-8ee7-151f4dd5ff65",
   "metadata": {},
   "outputs": [],
   "source": [
    "def ASCII_learning():\n",
    "    print(\"Hello Anon! This application will make your brain automatically read ASCII codes as letters which will make you able to understand the OMNISSIAH words. Be dutiful and learn well.\")\n",
    "    while(True):\n",
    "        ans = input(\"MENU: \\nFlashcards:\\n1 Learn 0d\\n2 Learn 0b\\n3 Learn 0x\\n\\nType in the number of activity\")\n",
    "        if ans.lower() == 'exit':\n",
    "            break\n",
    "        if ans == '1':\n",
    "            flashcards_deck_0d()\n",
    "        elif ans == '2':\n",
    "            flashcards_deck_0b()\n",
    "        elif ans == '3':\n",
    "            flashcards_deck_0x()\n",
    "        else:\n",
    "            print(\"Wrong answer\\nIf you want to leave, type 'exit'\")\n",
    "        "
   ]
  },
  {
   "cell_type": "code",
   "execution_count": 71,
   "id": "13b1a13d-d62a-4bb6-afb4-e66279b1cc18",
   "metadata": {},
   "outputs": [],
   "source": [
    "#ASCII_learning()"
   ]
  },
  {
   "cell_type": "markdown",
   "id": "f7c0f738-b99e-4087-b767-f9647afa4a76",
   "metadata": {},
   "source": [
    "Etap VII Przygotowanie nauki zdań"
   ]
  }
 ],
 "metadata": {
  "kernelspec": {
   "display_name": "Python 3 (ipykernel)",
   "language": "python",
   "name": "python3"
  },
  "language_info": {
   "codemirror_mode": {
    "name": "ipython",
    "version": 3
   },
   "file_extension": ".py",
   "mimetype": "text/x-python",
   "name": "python",
   "nbconvert_exporter": "python",
   "pygments_lexer": "ipython3",
   "version": "3.12.7"
  },
  "panel-cell-order": [
   "69b0ee75-9431-482e-8e95-0528d437a63c",
   "5dd93d32-2cc7-4a1d-894f-a0c0c2016a69",
   "b09f56c7-ebe9-47d7-9d79-8f23467cfd32"
  ]
 },
 "nbformat": 4,
 "nbformat_minor": 5
}
